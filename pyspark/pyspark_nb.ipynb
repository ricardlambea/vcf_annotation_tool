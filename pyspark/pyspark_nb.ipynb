{
 "cells": [
  {
   "cell_type": "code",
   "execution_count": 1,
   "id": "25d9da94",
   "metadata": {},
   "outputs": [],
   "source": [
    "import glow\n",
    "\n",
    "from IPython.display import display\n",
    "import numpy as np\n",
    "import pandas as pd\n",
    "from ipywidgets import FloatProgress\n"
   ]
  },
  {
   "cell_type": "code",
   "execution_count": 2,
   "id": "53e88747",
   "metadata": {},
   "outputs": [],
   "source": [
    "spark = glow.register(spark)"
   ]
  },
  {
   "cell_type": "code",
   "execution_count": 3,
   "id": "32f61b96",
   "metadata": {},
   "outputs": [],
   "source": [
    "VCF_PATH = \"/home/ricard/PycharmProjects/vcf_annotation_tool/Pfeiffer.vcf\" # home\n",
    "# VCF_PATH = \"/home/ricard/Documents/vcf_annotation_tool/Pfeiffer.vcf\" # lab\n",
    "REF_GENOME_PATH = '/home/ricard/PycharmProjects/vcf_annotation_tool/ref_genome/small_GRCh38_full_analysis_set_plus_decoy_hla.fa' # lab"
   ]
  },
  {
   "cell_type": "code",
   "execution_count": 4,
   "id": "31651ff9",
   "metadata": {},
   "outputs": [
    {
     "name": "stderr",
     "output_type": "stream",
     "text": [
      "                                                                                \r"
     ]
    }
   ],
   "source": [
    "original_variants_df = (spark.read\n",
    "  .format(\"vcf\")\n",
    "  .option(\"includeSampleIds\", True)\n",
    "  .load(VCF_PATH))"
   ]
  },
  {
   "cell_type": "code",
   "execution_count": 5,
   "id": "5135eb5e",
   "metadata": {},
   "outputs": [
    {
     "data": {
      "text/plain": [
       "DataFrame[contigName: string, start: bigint, end: bigint, names: array<string>, referenceAllele: string, alternateAlleles: array<string>, qual: double, filters: array<string>, splitFromMultiAllelic: boolean, INFO_AC: array<int>, INFO_MQ0: int, INFO_ReadPosRankSum: double, INFO_AN: int, INFO_set: string, INFO_HRun: int, INFO_InbreedingCoeff: double, INFO_AF: array<double>, INFO_Dels: double, INFO_FS: double, INFO_DP: int, INFO_BaseQRankSum: double, INFO_MQ: double, INFO_QD: double, INFO_DB: boolean, INFO_HaplotypeScore: double, INFO_MQRankSum: double, INFO_DS: boolean, genotypes: array<struct<sampleId:string,conditionalQuality:int,alleleDepths:array<int>,phased:boolean,calls:array<int>,phredLikelihoods:array<int>,depth:int>>]"
      ]
     },
     "metadata": {},
     "output_type": "display_data"
    }
   ],
   "source": [
    "display(original_variants_df)"
   ]
  },
  {
   "cell_type": "code",
   "execution_count": 6,
   "id": "e6f50499",
   "metadata": {},
   "outputs": [
    {
     "name": "stdout",
     "output_type": "stream",
     "text": [
      "22/07/01 11:42:02 WARN package: Truncated the string representation of a plan since it was too large. This behavior can be adjusted by setting 'spark.sql.debug.maxToStringFields'.\n"
     ]
    },
    {
     "name": "stderr",
     "output_type": "stream",
     "text": [
      "                                                                                \r"
     ]
    },
    {
     "name": "stdout",
     "output_type": "stream",
     "text": [
      "+----------+------+------+------------+---------------+----------------+------+-------+---------------------+-------+--------+-------------------+-------+--------+---------+--------------------+-------+---------+-------+-------+-----------------+-------+-------+-------+-------------------+--------------+-------+--------------------+\n",
      "|contigName| start|   end|       names|referenceAllele|alternateAlleles|  qual|filters|splitFromMultiAllelic|INFO_AC|INFO_MQ0|INFO_ReadPosRankSum|INFO_AN|INFO_set|INFO_HRun|INFO_InbreedingCoeff|INFO_AF|INFO_Dels|INFO_FS|INFO_DP|INFO_BaseQRankSum|INFO_MQ|INFO_QD|INFO_DB|INFO_HaplotypeScore|INFO_MQRankSum|INFO_DS|           genotypes|\n",
      "+----------+------+------+------------+---------------+----------------+------+-------+---------------------+-------+--------+-------------------+-------+--------+---------+--------------------+-------+---------+-------+-------+-----------------+-------+-------+-------+-------------------+--------------+-------+--------------------+\n",
      "|         1|866510|866511|[rs60722469]|              C|         [CCCCT]|258.62| [PASS]|                false|    [2]|       0|               null|      2| variant|        0|                null|  [1.0]|     null|    0.0|     11|             null|  61.94|  23.51|   true|            41.3338|          null|  false|[{manuel, 14, [6,...|\n",
      "|         1|879316|879317| [rs7523549]|              C|             [T]|150.77| [PASS]|                false|    [1]|       0|              0.112|      2|variant2|        0|                null|  [0.5]|      0.0|  1.984|     21|            1.455|   60.0|   7.18|   true|                0.0|        -0.037|  false|[{manuel, 99, [14...|\n",
      "|         1|879481|879482|        null|              G|             [C]|484.52| [PASS]|                false|    [1]|       0|              1.537|      2|variant2|        0|                null|  [0.5]|      0.0|  4.452|     48|            1.934|  59.13|  10.09|  false|             0.5784|         -0.24|  false|[{manuel, 99, [28...|\n",
      "|         1|880389|880390| [rs3748593]|              C|             [A]|288.44| [PASS]|                false|    [1]|       0|              0.196|      2|variant2|        0|                null|  [0.5]|      0.0|  1.485|     29|           -4.517|  56.93|   9.95|   true|                0.0|        -0.065|  false|[{manuel, 99, [14...|\n",
      "|         1|881626|881627| [rs2272757]|              G|             [A]|486.24| [PASS]|                false|    [1]|       0|             -0.669|      2|variant2|        1|                null|  [0.5]|      0.0|    0.0|     33|            0.199|   60.0|  14.73|   true|             1.8893|         0.777|  false|[{manuel, 99, [15...|\n",
      "+----------+------+------+------------+---------------+----------------+------+-------+---------------------+-------+--------+-------------------+-------+--------+---------+--------------------+-------+---------+-------+-------+-----------------+-------+-------+-------+-------------------+--------------+-------+--------------------+\n",
      "only showing top 5 rows\n",
      "\n"
     ]
    }
   ],
   "source": [
    "original_variants_df.show(5)"
   ]
  },
  {
   "cell_type": "code",
   "execution_count": 7,
   "id": "6a6e2ba5",
   "metadata": {},
   "outputs": [
    {
     "name": "stderr",
     "output_type": "stream",
     "text": [
      "/home/ricard/PycharmProjects/vcf_annotation_tool/pyspark/spark-3.3.0-bin-hadoop3/python/pyspark/sql/dataframe.py:149: UserWarning: DataFrame.sql_ctx is an internal property, and will be removed in future releases. Use DataFrame.sparkSession instead.\n",
      "  \"DataFrame.sql_ctx is an internal property, and will be removed \"\n",
      "/home/ricard/PycharmProjects/vcf_annotation_tool/pyspark/spark-3.3.0-bin-hadoop3/python/pyspark/sql/dataframe.py:127: UserWarning: DataFrame constructor is internal. Do not directly use it.\n",
      "  warnings.warn(\"DataFrame constructor is internal. Do not directly use it.\")\n"
     ]
    }
   ],
   "source": [
    "normalized_variants_df = glow.transform(\n",
    "  \"normalize_variants\",\n",
    "  original_variants_df,\n",
    "  reference_genome_path=REF_GENOME_PATH,\n",
    "  replace_columns=\"True\"\n",
    ")"
   ]
  },
  {
   "cell_type": "code",
   "execution_count": 8,
   "id": "d0664bf7",
   "metadata": {
    "scrolled": false
   },
   "outputs": [
    {
     "name": "stderr",
     "output_type": "stream",
     "text": [
      "                                                                                \r"
     ]
    },
    {
     "name": "stdout",
     "output_type": "stream",
     "text": [
      "+----------+------+------+------------+---------------+----------------+------+-------+---------------------+-------+--------+-------------------+-------+--------+---------+--------------------+-------+---------+-------+-------+-----------------+-------+-------+-------+-------------------+--------------+-------+--------------------+-------------------+\n",
      "|contigName| start|   end|       names|referenceAllele|alternateAlleles|  qual|filters|splitFromMultiAllelic|INFO_AC|INFO_MQ0|INFO_ReadPosRankSum|INFO_AN|INFO_set|INFO_HRun|INFO_InbreedingCoeff|INFO_AF|INFO_Dels|INFO_FS|INFO_DP|INFO_BaseQRankSum|INFO_MQ|INFO_QD|INFO_DB|INFO_HaplotypeScore|INFO_MQRankSum|INFO_DS|           genotypes|normalizationStatus|\n",
      "+----------+------+------+------------+---------------+----------------+------+-------+---------------------+-------+--------+-------------------+-------+--------+---------+--------------------+-------+---------+-------+-------+-----------------+-------+-------+-------+-------------------+--------------+-------+--------------------+-------------------+\n",
      "|         1|866510|866511|[rs60722469]|              C|         [CCCCT]|258.62| [PASS]|                false|    [2]|       0|               null|      2| variant|        0|                null|  [1.0]|     null|    0.0|     11|             null|  61.94|  23.51|   true|            41.3338|          null|  false|[{manuel, 14, [6,...|      {false, null}|\n",
      "|         1|879316|879317| [rs7523549]|              C|             [T]|150.77| [PASS]|                false|    [1]|       0|              0.112|      2|variant2|        0|                null|  [0.5]|      0.0|  1.984|     21|            1.455|   60.0|   7.18|   true|                0.0|        -0.037|  false|[{manuel, 99, [14...|      {false, null}|\n",
      "|         1|879481|879482|        null|              G|             [C]|484.52| [PASS]|                false|    [1]|       0|              1.537|      2|variant2|        0|                null|  [0.5]|      0.0|  4.452|     48|            1.934|  59.13|  10.09|  false|             0.5784|         -0.24|  false|[{manuel, 99, [28...|      {false, null}|\n",
      "|         1|880389|880390| [rs3748593]|              C|             [A]|288.44| [PASS]|                false|    [1]|       0|              0.196|      2|variant2|        0|                null|  [0.5]|      0.0|  1.485|     29|           -4.517|  56.93|   9.95|   true|                0.0|        -0.065|  false|[{manuel, 99, [14...|      {false, null}|\n",
      "|         1|881626|881627| [rs2272757]|              G|             [A]|486.24| [PASS]|                false|    [1]|       0|             -0.669|      2|variant2|        1|                null|  [0.5]|      0.0|    0.0|     33|            0.199|   60.0|  14.73|   true|             1.8893|         0.777|  false|[{manuel, 99, [15...|      {false, null}|\n",
      "+----------+------+------+------------+---------------+----------------+------+-------+---------------------+-------+--------+-------------------+-------+--------+---------+--------------------+-------+---------+-------+-------+-----------------+-------+-------+-------+-------------------+--------------+-------+--------------------+-------------------+\n",
      "only showing top 5 rows\n",
      "\n"
     ]
    }
   ],
   "source": [
    "normalized_variants_df.show(5)"
   ]
  }
 ],
 "metadata": {
  "kernelspec": {
   "display_name": "Python 3 (ipykernel)",
   "language": "python",
   "name": "python3"
  },
  "language_info": {
   "codemirror_mode": {
    "name": "ipython",
    "version": 3
   },
   "file_extension": ".py",
   "mimetype": "text/x-python",
   "name": "python",
   "nbconvert_exporter": "python",
   "pygments_lexer": "ipython3",
   "version": "3.7.9"
  }
 },
 "nbformat": 4,
 "nbformat_minor": 5
}
